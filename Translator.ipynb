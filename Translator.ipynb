{
 "cells": [
  {
   "cell_type": "code",
   "execution_count": 1,
   "metadata": {},
   "outputs": [
    {
     "name": "stdout",
     "output_type": "stream",
     "text": [
      "Collecting gdown\n",
      "  Downloading gdown-5.2.0-py3-none-any.whl.metadata (5.8 kB)\n",
      "Collecting beautifulsoup4 (from gdown)\n",
      "  Using cached beautifulsoup4-4.12.3-py3-none-any.whl.metadata (3.8 kB)\n",
      "Collecting filelock (from gdown)\n",
      "  Downloading filelock-3.16.1-py3-none-any.whl.metadata (2.9 kB)\n",
      "Requirement already satisfied: requests[socks] in /home/senorita-glez/Downloads/Translator/my_env/lib/python3.10/site-packages (from gdown) (2.32.3)\n",
      "Requirement already satisfied: tqdm in /home/senorita-glez/Downloads/Translator/my_env/lib/python3.10/site-packages (from gdown) (4.67.1)\n",
      "Collecting soupsieve>1.2 (from beautifulsoup4->gdown)\n",
      "  Using cached soupsieve-2.6-py3-none-any.whl.metadata (4.6 kB)\n",
      "Requirement already satisfied: charset-normalizer<4,>=2 in /home/senorita-glez/Downloads/Translator/my_env/lib/python3.10/site-packages (from requests[socks]->gdown) (3.4.1)\n",
      "Requirement already satisfied: idna<4,>=2.5 in /home/senorita-glez/Downloads/Translator/my_env/lib/python3.10/site-packages (from requests[socks]->gdown) (3.10)\n",
      "Requirement already satisfied: urllib3<3,>=1.21.1 in /home/senorita-glez/Downloads/Translator/my_env/lib/python3.10/site-packages (from requests[socks]->gdown) (2.3.0)\n",
      "Requirement already satisfied: certifi>=2017.4.17 in /home/senorita-glez/Downloads/Translator/my_env/lib/python3.10/site-packages (from requests[socks]->gdown) (2024.12.14)\n",
      "Collecting PySocks!=1.5.7,>=1.5.6 (from requests[socks]->gdown)\n",
      "  Using cached PySocks-1.7.1-py3-none-any.whl.metadata (13 kB)\n",
      "Downloading gdown-5.2.0-py3-none-any.whl (18 kB)\n",
      "Using cached beautifulsoup4-4.12.3-py3-none-any.whl (147 kB)\n",
      "Downloading filelock-3.16.1-py3-none-any.whl (16 kB)\n",
      "Using cached PySocks-1.7.1-py3-none-any.whl (16 kB)\n",
      "Using cached soupsieve-2.6-py3-none-any.whl (36 kB)\n",
      "Installing collected packages: soupsieve, PySocks, filelock, beautifulsoup4, gdown\n",
      "Successfully installed PySocks-1.7.1 beautifulsoup4-4.12.3 filelock-3.16.1 gdown-5.2.0 soupsieve-2.6\n"
     ]
    }
   ],
   "source": [
    "!pip install gdown"
   ]
  },
  {
   "cell_type": "code",
   "execution_count": null,
   "metadata": {},
   "outputs": [
    {
     "name": "stderr",
     "output_type": "stream",
     "text": [
      "Downloading...\n",
      "From (original): https://drive.google.com/uc?id=1w2D-lwIvD53bDOqD6WlX81Ma2qERoOws\n",
      "From (redirected): https://drive.google.com/uc?id=1w2D-lwIvD53bDOqD6WlX81Ma2qERoOws&confirm=t&uuid=83fe159f-e3b2-4130-b48c-5a236c0b3fb7\n",
      "To: /home/senorita-glez/Descargas/repositories/TranslatorBasicTransformer/Models.zip\n",
      "100%|██████████| 2.43G/2.43G [06:51<00:00, 5.92MB/s]\n"
     ]
    },
    {
     "data": {
      "text/plain": [
       "'Models.zip'"
      ]
     },
     "execution_count": 5,
     "metadata": {},
     "output_type": "execute_result"
    }
   ],
   "source": [
    "import gdown\n",
    "import zipfile\n",
    "import os\n",
    "\n",
    "# Enlace de la carpeta comprimida en Google Drive (debe estar configurado como público o compartir el enlace)\n",
    "url = 'https://drive.google.com/uc?id=1w2D-lwIvD53bDOqD6WlX81Ma2qERoOws'\n",
    "output = 'Models.zip'\n",
    "\n",
    "# Descargar la carpeta comprimida\n",
    "gdown.download(url, output, quiet=False)\n",
    "\n",
    "# Ruta del archivo zip que deseas descomprimir\n",
    "archivo_zip = 'Models.zip'\n",
    "# Ruta donde quieres extraer los archivos\n",
    "destino = 'ModelLanguage/'\n",
    "\n",
    "# Si el directorio de destino no existe, lo creamos\n",
    "if not os.path.exists(destino):\n",
    "    os.makedirs(destino)\n",
    "\n",
    "# Descomprimir el archivo zip\n",
    "with zipfile.ZipFile(archivo_zip, 'r') as zip_ref:\n",
    "    zip_ref.extractall(destino)\n",
    "\n",
    "print(f\"Archivo descomprimido en {destino}\")\n",
    "\n"
   ]
  },
  {
   "cell_type": "code",
   "execution_count": null,
   "metadata": {},
   "outputs": [],
   "source": [
    "import gdown\n",
    "import zipfile\n",
    "import os\n",
    "\n",
    "# Enlace de la carpeta comprimida en Google Drive (debe estar configurado como público o compartir el enlace)\n",
    "url = 'https://drive.google.com/uc?id=1w2D-lwIvD53bDOqD6WlX81Ma2qERoOws'\n",
    "output = 'Models.zip'\n",
    "\n",
    "# Descargar la carpeta comprimida\n",
    "gdown.download(url, output, quiet=False)\n",
    "\n",
    "# Ruta del archivo zip que deseas descomprimir\n",
    "archivo_zip = 'Models.zip'\n",
    "# Ruta donde quieres extraer los archivos\n",
    "destino = 'Models/'\n",
    "\n",
    "# Si el directorio de destino no existe, lo creamos\n",
    "if not os.path.exists(destino):\n",
    "    os.makedirs(destino)\n",
    "\n",
    "# Descomprimir el archivo zip\n",
    "with zipfile.ZipFile(archivo_zip, 'r') as zip_ref:\n",
    "    zip_ref.extractall(destino)\n",
    "\n",
    "print(f\"Archivo descomprimido en {destino}\")"
   ]
  },
  {
   "cell_type": "code",
   "execution_count": null,
   "metadata": {},
   "outputs": [],
   "source": [
    "import tensorflow as tf\n",
    "from langdetect import detect\n",
    "\n",
    "# Cargar los modelos de traducción\n",
    "def load_translation_models():\n",
    "    models = {\n",
    "        \"EN\": tf.saved_model.load('Models/ModelLanguage/translatorES-EN'),\n",
    "        \"FR\": tf.saved_model.load('Models/ModelLanguage/translatorES-FR'),\n",
    "        \"DE\": tf.saved_model.load('Models/ModelLanguage/translatorES-DE'),\n",
    "        \"IT\": tf.saved_model.load('Models/ModelLanguage/translatorES-IT'),\n",
    "        \"PT\": tf.saved_model.load('Models/ModelLanguage/translatorES-PT'),\n",
    "    }\n",
    "    return models\n",
    "\n",
    "# Función para traducir a español si el idioma detectado es uno de los soportados\n",
    "def translate_to_spanish(text, model):\n",
    "    return model(text).numpy().decode('utf-8')\n",
    "\n",
    "# Función para traducir desde español a otro idioma\n",
    "def translate_from_spanish(text, target_lang, models):\n",
    "    if target_lang in models:\n",
    "        model = models[target_lang]\n",
    "        return model(text).numpy().decode('utf-8')\n",
    "    else:\n",
    "        return f\"Lo siento, no hay opción para traducir a {target_lang}.\"\n",
    "\n",
    "def main():\n",
    "    # Cargar los modelos\n",
    "    models = load_translation_models()\n",
    "    \n",
    "    # Solicitar frase al usuario\n",
    "    text = input(\"Introduce una frase para traducir: \")\n",
    "    \n",
    "    # Detectar el idioma de la frase\n",
    "    detected_language = detect(text)\n",
    "    \n",
    "    if detected_language == 'es':\n",
    "        # Si está en español, preguntar a qué idioma traducir\n",
    "        target_language = input(\"¿A qué idioma deseas traducir? (EN, FR, DE, IT, PT): \").upper()\n",
    "        translation = translate_from_spanish(text, target_language, models)\n",
    "        print(f\"Traducción: {translation}\")\n",
    "    elif detected_language in ['en', 'fr', 'de', 'it', 'pt']:\n",
    "        # Si el idioma está en inglés, francés, alemán, italiano o portugués, traducir a español\n",
    "        language_map = {'en': 'EN', 'fr': 'FR', 'de': 'DE', 'it': 'IT', 'pt': 'PT'}\n",
    "        model = models[language_map[detected_language]]\n",
    "        translation = translate_to_spanish(text, model)\n",
    "        print(f\"Traducción al español: {translation}\")\n",
    "    else:\n",
    "        print(f\"Lo siento, no tenemos soporte para el idioma detectado: {detected_language}.\")\n",
    "\n",
    "if __name__ == \"__main__\":\n",
    "    main()\n"
   ]
  },
  {
   "cell_type": "code",
   "execution_count": null,
   "metadata": {},
   "outputs": [],
   "source": []
  }
 ],
 "metadata": {
  "kernelspec": {
   "display_name": "my_env",
   "language": "python",
   "name": "python3"
  },
  "language_info": {
   "codemirror_mode": {
    "name": "ipython",
    "version": 3
   },
   "file_extension": ".py",
   "mimetype": "text/x-python",
   "name": "python",
   "nbconvert_exporter": "python",
   "pygments_lexer": "ipython3",
   "version": "3.10.12"
  }
 },
 "nbformat": 4,
 "nbformat_minor": 2
}
