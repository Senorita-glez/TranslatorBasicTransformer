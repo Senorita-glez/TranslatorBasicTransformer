{
 "cells": [
  {
   "cell_type": "code",
   "execution_count": 1,
   "metadata": {},
   "outputs": [
    {
     "name": "stderr",
     "output_type": "stream",
     "text": [
      "Downloading...\n",
      "From (original): https://drive.google.com/uc?id=1hvuNiG-FO-0OzkbIrJ9RLxzbSrLQVSgL\n",
      "From (redirected): https://drive.google.com/uc?id=1hvuNiG-FO-0OzkbIrJ9RLxzbSrLQVSgL&confirm=t&uuid=3c0f487e-4951-4642-b805-c991cdfff174\n",
      "To: /home/senorita-glez/Descargas/repositories/TranslatorBasicTransformer/Models/datasetLanguages.tsv\n",
      "100%|██████████| 234M/234M [00:27<00:00, 8.47MB/s] \n"
     ]
    },
    {
     "data": {
      "text/plain": [
       "'datasetLanguages.tsv'"
      ]
     },
     "execution_count": 1,
     "metadata": {},
     "output_type": "execute_result"
    }
   ],
   "source": [
    "import gdown\n",
    "\n",
    "# Enlace de la carpeta comprimida en Google Drive (debe estar configurado como público o compartir el enlace)\n",
    "url = 'https://drive.google.com/uc?id=1hvuNiG-FO-0OzkbIrJ9RLxzbSrLQVSgL'\n",
    "output = 'datasetLanguages.tsv'\n",
    "\n",
    "# Descargar la carpeta comprimida\n",
    "gdown.download(url, output, quiet=False)"
   ]
  },
  {
   "cell_type": "code",
   "execution_count": null,
   "metadata": {},
   "outputs": [],
   "source": [
    "import pandas as pd\n",
    "from sklearn.model_selection import train_test_split\n",
    "from sklearn.feature_extraction.text import TfidfVectorizer\n",
    "from sklearn.naive_bayes import MultinomialNB\n",
    "from sklearn.pipeline import Pipeline\n",
    "import joblib\n",
    "import seaborn as sns\n",
    "import matplotlib.pyplot as plt\n",
    "from sklearn.metrics import confusion_matrix, accuracy_score\n",
    "\n",
    "# Cargar el dataset desde un archivo TSV\n",
    "archivo_tsv = \"datasetLanguages.tsv\"  # Asegúrate de que este archivo esté en el directorio correcto\n",
    "df = pd.read_csv(archivo_tsv, sep='\\t', header=None, names=['etiqueta', 'frase'])\n",
    "\n",
    "# Separar las características (frases) y las etiquetas (idiomas)\n",
    "textos = df['frase'].values\n",
    "etiquetas = df['etiqueta'].values\n",
    "\n",
    "# Dividir el conjunto de datos en entrenamiento (80%) y prueba (20%) de forma estratificada\n",
    "X_train, X_test, y_train, y_test = train_test_split(textos, etiquetas, test_size=0.2, random_state=42, stratify=etiquetas)\n",
    "\n",
    "# Crear un pipeline de vectorización y clasificación\n",
    "modelo = Pipeline([\n",
    "    ('vectorizer', TfidfVectorizer(ngram_range=(1, 3), analyzer='char')),  # Caracteres n-gramas\n",
    "    ('classifier', MultinomialNB())  # Clasificador Naive Bayes\n",
    "])\n",
    "\n",
    "# Entrenar el modelo con los datos de entrenamiento\n",
    "modelo.fit(X_train, y_train)\n",
    "\n",
    "# Guardar el modelo entrenado en un archivo\n",
    "modelo_guardado = \"modelo_idiomas.joblib\"\n",
    "joblib.dump(modelo, modelo_guardado)\n",
    "\n",
    "# Realizar predicciones en el conjunto de prueba\n",
    "y_pred = modelo.predict(X_test)\n",
    "\n",
    "# Calcular la precisión (accuracy)\n",
    "accuracy = accuracy_score(y_test, y_pred)\n",
    "print(f\"Accuracy del modelo en el conjunto de prueba: {accuracy:.4f}\")\n",
    "\n",
    "# Generar la matriz de confusión\n",
    "matriz_confusion = confusion_matrix(y_test, y_pred)\n",
    "\n",
    "# Mapeo de etiquetas numéricas a nombres de idiomas\n",
    "etiquetas_a_idiomas = {\n",
    "    0: 'spa', 1: 'eng', 2: 'deu', 3: 'por', 4: 'fra', 5: 'ita',\n",
    "    6: 'pol', 7: 'swe', 8: 'ces', 9: 'nno'\n",
    "}\n",
    "\n",
    "# Mostrar la matriz de confusión usando seaborn para una visualización más amigable\n",
    "plt.figure(figsize=(10, 7))\n",
    "sns.heatmap(matriz_confusion, annot=True, fmt=\"d\", cmap=\"Blues\",\n",
    "            xticklabels=etiquetas_a_idiomas.values(),\n",
    "            yticklabels=etiquetas_a_idiomas.values())\n",
    "\n",
    "plt.title('Matriz de Confusión')\n",
    "plt.xlabel('Predicción')\n",
    "plt.ylabel('Verdadero')\n",
    "plt.show()\n",
    "\n",
    "# Confirmar que el modelo ha sido guardado\n",
    "print(f\"Modelo guardado en: {modelo_guardado}\")\n"
   ]
  }
 ],
 "metadata": {
  "kernelspec": {
   "display_name": "minee",
   "language": "python",
   "name": "myenv"
  },
  "language_info": {
   "codemirror_mode": {
    "name": "ipython",
    "version": 3
   },
   "file_extension": ".py",
   "mimetype": "text/x-python",
   "name": "python",
   "nbconvert_exporter": "python",
   "pygments_lexer": "ipython3",
   "version": "3.10.12"
  }
 },
 "nbformat": 4,
 "nbformat_minor": 2
}
